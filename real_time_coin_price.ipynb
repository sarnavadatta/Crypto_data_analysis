{
  "nbformat": 4,
  "nbformat_minor": 0,
  "metadata": {
    "colab": {
      "provenance": [],
      "authorship_tag": "ABX9TyOkXvGkTd3hohGCrpKLnWwD",
      "include_colab_link": true
    },
    "kernelspec": {
      "name": "python3",
      "display_name": "Python 3"
    }
  },
  "cells": [
    {
      "cell_type": "markdown",
      "metadata": {
        "id": "view-in-github",
        "colab_type": "text"
      },
      "source": [
        "<a href=\"https://colab.research.google.com/github/sarnavadatta/Crypto_data_analysis/blob/main/real_time_coin_price.ipynb\" target=\"_parent\"><img src=\"https://colab.research.google.com/assets/colab-badge.svg\" alt=\"Open In Colab\"/></a>"
      ]
    },
    {
      "cell_type": "code",
      "metadata": {
        "id": "9JEMGB6J7IOL"
      },
      "source": [
        "import requests\n",
        "import time\n",
        "from bs4 import BeautifulSoup"
      ],
      "execution_count": null,
      "outputs": []
    },
    {
      "cell_type": "code",
      "metadata": {
        "id": "b_R2Bvwf7buE"
      },
      "source": [
        "# get the url\n",
        "url='https://www.google.com/search?q=bitcoin+price'\n",
        "\n",
        "#Make a request to the website\n",
        "HTML= requests.get(url)\n",
        "\n",
        "#parse the html\n",
        "soup = BeautifulSoup(HTML.text,'html.parser')\n"
      ],
      "execution_count": null,
      "outputs": []
    },
    {
      "cell_type": "code",
      "metadata": {
        "id": "TrzRwh5FC2Ud"
      },
      "source": [
        "#<div class=\"BNeawe uEec3 AP7Wnd\">\n",
        "def get_crypto_price(coin):\n",
        "  url='https://www.google.com/search?q=bitcoin+price'\n",
        "\n",
        "  #Make a request to the website\n",
        "  HTML= requests.get(url)\n",
        "\n",
        "  #parse the html\n",
        "  soup = BeautifulSoup(HTML.text,'html.parser')\n",
        "\n",
        "  # find the current price\n",
        "  text=soup.find('div',attrs={'class':'BNeawe iBp4i AP7Wnd'}).find('div',attrs={'class':'BNeawe iBp4i AP7Wnd'}).text  \n",
        "\n",
        "  return text\n"
      ],
      "execution_count": null,
      "outputs": []
    },
    {
      "cell_type": "code",
      "metadata": {
        "colab": {
          "base_uri": "https://localhost:8080/"
        },
        "id": "7vtEQQsFEHY-",
        "outputId": "2fb4125c-4822-4917-a1a6-4e359cf5a57c"
      },
      "source": [
        "price = get_crypto_price('bitcoin')\n",
        "print(price)"
      ],
      "execution_count": null,
      "outputs": [
        {
          "output_type": "stream",
          "text": [
            "47,289.20 United States Dollar\n"
          ],
          "name": "stdout"
        }
      ]
    },
    {
      "cell_type": "code",
      "metadata": {
        "id": "s51SHMayE9m6"
      },
      "source": [
        "# create a function that consistentle shows the price when it changes\n",
        "def main():\n",
        "  last_price=-1\n",
        "  # create loop to continuously shows the price\n",
        "  while True:\n",
        "    crypto='bitcoin'\n",
        "    price=get_crypto_price(crypto)\n",
        "    if price!=last_price:\n",
        "      print('bitcoin price', price)\n",
        "      last_price=price\n",
        "    time.sleep(3)  \n",
        "\n",
        "#main()    "
      ],
      "execution_count": null,
      "outputs": []
    }
  ]
}